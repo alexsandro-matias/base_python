{
  "nbformat": 4,
  "nbformat_minor": 0,
  "metadata": {
    "colab": {
      "name": "01 - modulos.ipynb",
      "provenance": [],
      "include_colab_link": true
    },
    "kernelspec": {
      "name": "python3",
      "display_name": "Python 3"
    },
    "language_info": {
      "name": "python"
    }
  },
  "cells": [
    {
      "cell_type": "markdown",
      "metadata": {
        "id": "view-in-github",
        "colab_type": "text"
      },
      "source": [
        "<a href=\"https://colab.research.google.com/github/alexsandro-matias/python_base/blob/main/01_modulos.ipynb\" target=\"_parent\"><img src=\"https://colab.research.google.com/assets/colab-badge.svg\" alt=\"Open In Colab\"/></a>"
      ]
    },
    {
      "cell_type": "markdown",
      "metadata": {
        "id": "6M-PxfbLJb_s"
      },
      "source": [
        "# Módulos em Python"
      ]
    },
    {
      "cell_type": "markdown",
      "metadata": {
        "id": "KGf4HG-1Juyp"
      },
      "source": [
        "Quando um código é executado em Python, a primeira coisa que é executada é **entrypoint**, ou seja, o módulo, ou seja, o arquivo executado passado como parâmetro do interpretador (quando o **arquivo.py** é executado).\n"
      ]
    },
    {
      "cell_type": "markdown",
      "metadata": {
        "id": "yFnMI1Z1KKDT"
      },
      "source": [
        "O arquivo é executado de cima para baixo e da esquerda para direita."
      ]
    },
    {
      "cell_type": "code",
      "metadata": {
        "colab": {
          "base_uri": "https://localhost:8080/"
        },
        "id": "E8VfWLjUKc2X",
        "outputId": "15496bff-91b1-4170-be96-c9fe43c15cc8"
      },
      "source": [
        "print(\"A idade de Alexsandro é \" ,  36 + 4)"
      ],
      "execution_count": 19,
      "outputs": [
        {
          "output_type": "stream",
          "name": "stdout",
          "text": [
            "A idade de Alexsandro é  40\n"
          ]
        }
      ]
    },
    {
      "cell_type": "markdown",
      "metadata": {
        "id": "-jaENitxKxm7"
      },
      "source": [
        "Caso não seja passado nenhum arquivo por parâmetro, o Python cria um módulo vazio que é representado pelo namespace do módulo. \n",
        "\n"
      ]
    },
    {
      "cell_type": "markdown",
      "metadata": {
        "id": "yF2IaWQ6LHbP"
      },
      "source": [
        "Isso faz com o conceito de variáveis globais sejam alteradas em Python. Para verificar quais são elas, utiliza-se function build-in:"
      ]
    },
    {
      "cell_type": "code",
      "metadata": {
        "colab": {
          "base_uri": "https://localhost:8080/"
        },
        "id": "YzFerCQcKskW",
        "outputId": "29990b00-9d8e-4e1a-b6ae-5e5c8ba7712e"
      },
      "source": [
        "globals()"
      ],
      "execution_count": 20,
      "outputs": [
        {
          "output_type": "execute_result",
          "data": {
            "text/plain": [
              "{'In': ['',\n",
              "  'os',\n",
              "  'import os',\n",
              "  'os',\n",
              "  'os.getcwd()',\n",
              "  'type(os)',\n",
              "  'os.__name__',\n",
              "  'os.__file__',\n",
              "  'import os as asdf',\n",
              "  'a = asdf',\n",
              "  'asdf',\n",
              "  'a',\n",
              "  'a.getcwd()',\n",
              "  'asdf.getcwd()',\n",
              "  'print(\"A idade de Alexsandro é \" ,  36 + 4)',\n",
              "  'globals()',\n",
              "  \"texto = 'Isto é um teste.'\",\n",
              "  'globals()',\n",
              "  \"if __name__ == '__main__':\\n  main()\",\n",
              "  'print(\"A idade de Alexsandro é \" ,  36 + 4)',\n",
              "  'globals()'],\n",
              " 'Out': {3: <module 'os' from '/usr/lib/python3.7/os.py'>,\n",
              "  4: '/content',\n",
              "  5: module,\n",
              "  6: 'os',\n",
              "  7: '/usr/lib/python3.7/os.py',\n",
              "  10: <module 'os' from '/usr/lib/python3.7/os.py'>,\n",
              "  11: <module 'os' from '/usr/lib/python3.7/os.py'>,\n",
              "  12: '/content',\n",
              "  13: '/content',\n",
              "  15: {...},\n",
              "  17: {...}},\n",
              " '_': {...},\n",
              " '_10': <module 'os' from '/usr/lib/python3.7/os.py'>,\n",
              " '_11': <module 'os' from '/usr/lib/python3.7/os.py'>,\n",
              " '_12': '/content',\n",
              " '_13': '/content',\n",
              " '_15': {...},\n",
              " '_17': {...},\n",
              " '_3': <module 'os' from '/usr/lib/python3.7/os.py'>,\n",
              " '_4': '/content',\n",
              " '_5': module,\n",
              " '_6': 'os',\n",
              " '_7': '/usr/lib/python3.7/os.py',\n",
              " '__': {...},\n",
              " '___': '/content',\n",
              " '__builtin__': <module 'builtins' (built-in)>,\n",
              " '__builtins__': <module 'builtins' (built-in)>,\n",
              " '__doc__': 'Automatically created module for IPython interactive environment',\n",
              " '__loader__': None,\n",
              " '__name__': '__main__',\n",
              " '__package__': None,\n",
              " '__spec__': None,\n",
              " '_dh': ['/content'],\n",
              " '_i': 'print(\"A idade de Alexsandro é \" ,  36 + 4)',\n",
              " '_i1': 'os',\n",
              " '_i10': 'asdf',\n",
              " '_i11': 'a',\n",
              " '_i12': 'a.getcwd()',\n",
              " '_i13': 'asdf.getcwd()',\n",
              " '_i14': 'print(\"A idade de Alexsandro é \" ,  36 + 4)',\n",
              " '_i15': 'globals()',\n",
              " '_i16': \"texto = 'Isto é um teste.'\",\n",
              " '_i17': 'globals()',\n",
              " '_i18': \"if __name__ == '__main__':\\n  main()\",\n",
              " '_i19': 'print(\"A idade de Alexsandro é \" ,  36 + 4)',\n",
              " '_i2': 'import os',\n",
              " '_i20': 'globals()',\n",
              " '_i3': 'os',\n",
              " '_i4': 'os.getcwd()',\n",
              " '_i5': 'type(os)',\n",
              " '_i6': 'os.__name__',\n",
              " '_i7': 'os.__file__',\n",
              " '_i8': 'import os as asdf',\n",
              " '_i9': 'a = asdf',\n",
              " '_ih': ['',\n",
              "  'os',\n",
              "  'import os',\n",
              "  'os',\n",
              "  'os.getcwd()',\n",
              "  'type(os)',\n",
              "  'os.__name__',\n",
              "  'os.__file__',\n",
              "  'import os as asdf',\n",
              "  'a = asdf',\n",
              "  'asdf',\n",
              "  'a',\n",
              "  'a.getcwd()',\n",
              "  'asdf.getcwd()',\n",
              "  'print(\"A idade de Alexsandro é \" ,  36 + 4)',\n",
              "  'globals()',\n",
              "  \"texto = 'Isto é um teste.'\",\n",
              "  'globals()',\n",
              "  \"if __name__ == '__main__':\\n  main()\",\n",
              "  'print(\"A idade de Alexsandro é \" ,  36 + 4)',\n",
              "  'globals()'],\n",
              " '_ii': \"if __name__ == '__main__':\\n  main()\",\n",
              " '_iii': 'globals()',\n",
              " '_oh': {3: <module 'os' from '/usr/lib/python3.7/os.py'>,\n",
              "  4: '/content',\n",
              "  5: module,\n",
              "  6: 'os',\n",
              "  7: '/usr/lib/python3.7/os.py',\n",
              "  10: <module 'os' from '/usr/lib/python3.7/os.py'>,\n",
              "  11: <module 'os' from '/usr/lib/python3.7/os.py'>,\n",
              "  12: '/content',\n",
              "  13: '/content',\n",
              "  15: {...},\n",
              "  17: {...}},\n",
              " '_sh': <module 'IPython.core.shadowns' from '/usr/local/lib/python3.7/dist-packages/IPython/core/shadowns.py'>,\n",
              " 'a': <module 'os' from '/usr/lib/python3.7/os.py'>,\n",
              " 'asdf': <module 'os' from '/usr/lib/python3.7/os.py'>,\n",
              " 'exit': <IPython.core.autocall.ZMQExitAutocall at 0x7f9de69e4f50>,\n",
              " 'get_ipython': <bound method InteractiveShell.get_ipython of <google.colab._shell.Shell object at 0x7f9de9d6cd90>>,\n",
              " 'os': <module 'os' from '/usr/lib/python3.7/os.py'>,\n",
              " 'quit': <IPython.core.autocall.ZMQExitAutocall at 0x7f9de69e4f50>,\n",
              " 'texto': 'Isto é um teste.'}"
            ]
          },
          "metadata": {},
          "execution_count": 20
        }
      ]
    },
    {
      "cell_type": "markdown",
      "metadata": {
        "id": "xplVfDJGLdQq"
      },
      "source": [
        "Caso crie uma variável neste namespace:"
      ]
    },
    {
      "cell_type": "code",
      "metadata": {
        "id": "ePAWFLioHnYt"
      },
      "source": [
        "texto = 'Isto é um teste.'"
      ],
      "execution_count": 21,
      "outputs": []
    },
    {
      "cell_type": "markdown",
      "metadata": {
        "id": "t9o_qJOJLv8G"
      },
      "source": [
        "Chamando novamente o método globals()"
      ]
    },
    {
      "cell_type": "code",
      "metadata": {
        "colab": {
          "base_uri": "https://localhost:8080/"
        },
        "id": "iiWH9LrKLss4",
        "outputId": "b3fbe185-83b4-4b75-9254-ec5d53e980c7"
      },
      "source": [
        "globals()"
      ],
      "execution_count": 22,
      "outputs": [
        {
          "output_type": "execute_result",
          "data": {
            "text/plain": [
              "{'In': ['',\n",
              "  'os',\n",
              "  'import os',\n",
              "  'os',\n",
              "  'os.getcwd()',\n",
              "  'type(os)',\n",
              "  'os.__name__',\n",
              "  'os.__file__',\n",
              "  'import os as asdf',\n",
              "  'a = asdf',\n",
              "  'asdf',\n",
              "  'a',\n",
              "  'a.getcwd()',\n",
              "  'asdf.getcwd()',\n",
              "  'print(\"A idade de Alexsandro é \" ,  36 + 4)',\n",
              "  'globals()',\n",
              "  \"texto = 'Isto é um teste.'\",\n",
              "  'globals()',\n",
              "  \"if __name__ == '__main__':\\n  main()\",\n",
              "  'print(\"A idade de Alexsandro é \" ,  36 + 4)',\n",
              "  'globals()',\n",
              "  \"texto = 'Isto é um teste.'\",\n",
              "  'globals()'],\n",
              " 'Out': {3: <module 'os' from '/usr/lib/python3.7/os.py'>,\n",
              "  4: '/content',\n",
              "  5: module,\n",
              "  6: 'os',\n",
              "  7: '/usr/lib/python3.7/os.py',\n",
              "  10: <module 'os' from '/usr/lib/python3.7/os.py'>,\n",
              "  11: <module 'os' from '/usr/lib/python3.7/os.py'>,\n",
              "  12: '/content',\n",
              "  13: '/content',\n",
              "  15: {...},\n",
              "  17: {...},\n",
              "  20: {...}},\n",
              " '_': {...},\n",
              " '_10': <module 'os' from '/usr/lib/python3.7/os.py'>,\n",
              " '_11': <module 'os' from '/usr/lib/python3.7/os.py'>,\n",
              " '_12': '/content',\n",
              " '_13': '/content',\n",
              " '_15': {...},\n",
              " '_17': {...},\n",
              " '_20': {...},\n",
              " '_3': <module 'os' from '/usr/lib/python3.7/os.py'>,\n",
              " '_4': '/content',\n",
              " '_5': module,\n",
              " '_6': 'os',\n",
              " '_7': '/usr/lib/python3.7/os.py',\n",
              " '__': {...},\n",
              " '___': {...},\n",
              " '__builtin__': <module 'builtins' (built-in)>,\n",
              " '__builtins__': <module 'builtins' (built-in)>,\n",
              " '__doc__': 'Automatically created module for IPython interactive environment',\n",
              " '__loader__': None,\n",
              " '__name__': '__main__',\n",
              " '__package__': None,\n",
              " '__spec__': None,\n",
              " '_dh': ['/content'],\n",
              " '_i': \"texto = 'Isto é um teste.'\",\n",
              " '_i1': 'os',\n",
              " '_i10': 'asdf',\n",
              " '_i11': 'a',\n",
              " '_i12': 'a.getcwd()',\n",
              " '_i13': 'asdf.getcwd()',\n",
              " '_i14': 'print(\"A idade de Alexsandro é \" ,  36 + 4)',\n",
              " '_i15': 'globals()',\n",
              " '_i16': \"texto = 'Isto é um teste.'\",\n",
              " '_i17': 'globals()',\n",
              " '_i18': \"if __name__ == '__main__':\\n  main()\",\n",
              " '_i19': 'print(\"A idade de Alexsandro é \" ,  36 + 4)',\n",
              " '_i2': 'import os',\n",
              " '_i20': 'globals()',\n",
              " '_i21': \"texto = 'Isto é um teste.'\",\n",
              " '_i22': 'globals()',\n",
              " '_i3': 'os',\n",
              " '_i4': 'os.getcwd()',\n",
              " '_i5': 'type(os)',\n",
              " '_i6': 'os.__name__',\n",
              " '_i7': 'os.__file__',\n",
              " '_i8': 'import os as asdf',\n",
              " '_i9': 'a = asdf',\n",
              " '_ih': ['',\n",
              "  'os',\n",
              "  'import os',\n",
              "  'os',\n",
              "  'os.getcwd()',\n",
              "  'type(os)',\n",
              "  'os.__name__',\n",
              "  'os.__file__',\n",
              "  'import os as asdf',\n",
              "  'a = asdf',\n",
              "  'asdf',\n",
              "  'a',\n",
              "  'a.getcwd()',\n",
              "  'asdf.getcwd()',\n",
              "  'print(\"A idade de Alexsandro é \" ,  36 + 4)',\n",
              "  'globals()',\n",
              "  \"texto = 'Isto é um teste.'\",\n",
              "  'globals()',\n",
              "  \"if __name__ == '__main__':\\n  main()\",\n",
              "  'print(\"A idade de Alexsandro é \" ,  36 + 4)',\n",
              "  'globals()',\n",
              "  \"texto = 'Isto é um teste.'\",\n",
              "  'globals()'],\n",
              " '_ii': 'globals()',\n",
              " '_iii': 'print(\"A idade de Alexsandro é \" ,  36 + 4)',\n",
              " '_oh': {3: <module 'os' from '/usr/lib/python3.7/os.py'>,\n",
              "  4: '/content',\n",
              "  5: module,\n",
              "  6: 'os',\n",
              "  7: '/usr/lib/python3.7/os.py',\n",
              "  10: <module 'os' from '/usr/lib/python3.7/os.py'>,\n",
              "  11: <module 'os' from '/usr/lib/python3.7/os.py'>,\n",
              "  12: '/content',\n",
              "  13: '/content',\n",
              "  15: {...},\n",
              "  17: {...},\n",
              "  20: {...}},\n",
              " '_sh': <module 'IPython.core.shadowns' from '/usr/local/lib/python3.7/dist-packages/IPython/core/shadowns.py'>,\n",
              " 'a': <module 'os' from '/usr/lib/python3.7/os.py'>,\n",
              " 'asdf': <module 'os' from '/usr/lib/python3.7/os.py'>,\n",
              " 'exit': <IPython.core.autocall.ZMQExitAutocall at 0x7f9de69e4f50>,\n",
              " 'get_ipython': <bound method InteractiveShell.get_ipython of <google.colab._shell.Shell object at 0x7f9de9d6cd90>>,\n",
              " 'os': <module 'os' from '/usr/lib/python3.7/os.py'>,\n",
              " 'quit': <IPython.core.autocall.ZMQExitAutocall at 0x7f9de69e4f50>,\n",
              " 'texto': 'Isto é um teste.'}"
            ]
          },
          "metadata": {},
          "execution_count": 22
        }
      ]
    },
    {
      "cell_type": "markdown",
      "metadata": {
        "id": "aq0fbY9AL-vW"
      },
      "source": [
        "Ela neste momento passa a fazer parte do módulo como variável global. Todas as variáveis declaradas no corpo do módulo são globais. Já aquelas que são declaradas dentro de uma função são locais."
      ]
    },
    {
      "cell_type": "markdown",
      "metadata": {
        "id": "4d4G0mIwMgqM"
      },
      "source": [
        "Algumas variáveis apresentam \"_______variavel_____\" - isso representa variáveis intermediárias entre o código interno do Python com os códigos produzidos pelo programador. Um exemplo para representar esse uso pode ser através:"
      ]
    },
    {
      "cell_type": "code",
      "metadata": {
        "id": "3sB3En2FjxAr"
      },
      "source": [
        "# if __name__ == '__main__':\n",
        "#   main()"
      ],
      "execution_count": 23,
      "outputs": []
    },
    {
      "cell_type": "markdown",
      "metadata": {
        "id": "Q6s6II0ujibG"
      },
      "source": [
        "Então se for chamado qualquer módulo que não existe, o interpretador irá indicar que namespace atual, o módulo não existe. Por exemplo:"
      ]
    },
    {
      "cell_type": "code",
      "metadata": {
        "colab": {
          "base_uri": "https://localhost:8080/"
        },
        "id": "jhrPbRjhlSWD",
        "outputId": "bc1fd5a4-71fd-47ea-fdb2-43bd8b46c579"
      },
      "source": [
        "os"
      ],
      "execution_count": 24,
      "outputs": [
        {
          "output_type": "execute_result",
          "data": {
            "text/plain": [
              "<module 'os' from '/usr/lib/python3.7/os.py'>"
            ]
          },
          "metadata": {},
          "execution_count": 24
        }
      ]
    },
    {
      "cell_type": "markdown",
      "metadata": {
        "id": "50m4GB8Glkbb"
      },
      "source": [
        "Como não no namespace atual uma variável chamada **os**. Para que ela seja encontrada, ela deve ser importada:"
      ]
    },
    {
      "cell_type": "code",
      "metadata": {
        "id": "i4C917A9mPS3"
      },
      "source": [
        "import os"
      ],
      "execution_count": 25,
      "outputs": []
    },
    {
      "cell_type": "markdown",
      "metadata": {
        "id": "S9KSfpi7mR1s"
      },
      "source": [
        "Agora, para verificarmos se o módulo está presente:"
      ]
    },
    {
      "cell_type": "code",
      "metadata": {
        "id": "y0Kgt15rmYWc",
        "colab": {
          "base_uri": "https://localhost:8080/"
        },
        "outputId": "dc659ebb-00b0-49af-a135-567750e9d1c0"
      },
      "source": [
        "os"
      ],
      "execution_count": 26,
      "outputs": [
        {
          "output_type": "execute_result",
          "data": {
            "text/plain": [
              "<module 'os' from '/usr/lib/python3.7/os.py'>"
            ]
          },
          "metadata": {},
          "execution_count": 26
        }
      ]
    },
    {
      "cell_type": "markdown",
      "metadata": {
        "id": "GglmT45HmaLk"
      },
      "source": [
        "Na linha anterior, é mostrado o objeto módulo é referenciado no local do diretório que contém um arquivo **.py**. Então como se trata de um objeto, pode-se usar o **.** como acessor das propriedades do módulo:"
      ]
    },
    {
      "cell_type": "code",
      "metadata": {
        "id": "LDApmClSnMkY",
        "colab": {
          "base_uri": "https://localhost:8080/",
          "height": 35
        },
        "outputId": "519b46e0-d09d-4490-9d2c-6d660b60547c"
      },
      "source": [
        "os.getcwd()"
      ],
      "execution_count": 27,
      "outputs": [
        {
          "output_type": "execute_result",
          "data": {
            "application/vnd.google.colaboratory.intrinsic+json": {
              "type": "string"
            },
            "text/plain": [
              "'/content'"
            ]
          },
          "metadata": {},
          "execution_count": 27
        }
      ]
    },
    {
      "cell_type": "markdown",
      "metadata": {
        "id": "FtvaPcPBnRzd"
      },
      "source": [
        "No comando anterior, foi mostrado o diretório atual - **get current word directory**."
      ]
    },
    {
      "cell_type": "markdown",
      "metadata": {
        "id": "2NaqI90HnpBf"
      },
      "source": [
        "Para verificar o tipo da variável que passamos, pode-se utilizar a função **type** para vermos o tipo que a variável passada como parâmetro é referenciada."
      ]
    },
    {
      "cell_type": "code",
      "metadata": {
        "id": "XKErrVj0oJJ_",
        "colab": {
          "base_uri": "https://localhost:8080/"
        },
        "outputId": "292bc0eb-b792-4d1c-b004-d97ba10e123a"
      },
      "source": [
        "type(os)"
      ],
      "execution_count": 28,
      "outputs": [
        {
          "output_type": "execute_result",
          "data": {
            "text/plain": [
              "module"
            ]
          },
          "metadata": {},
          "execution_count": 28
        }
      ]
    },
    {
      "cell_type": "markdown",
      "metadata": {
        "id": "7GB746j2sR6h"
      },
      "source": [
        "Para mais detalhes que complementam aquilo que foi mostrado anteriormente:"
      ]
    },
    {
      "cell_type": "code",
      "metadata": {
        "id": "hK6dm7ZQsW6-",
        "colab": {
          "base_uri": "https://localhost:8080/",
          "height": 35
        },
        "outputId": "b2c487df-4ec6-4df3-ddf1-cd0a00c3a5d0"
      },
      "source": [
        "os.__name__"
      ],
      "execution_count": 29,
      "outputs": [
        {
          "output_type": "execute_result",
          "data": {
            "application/vnd.google.colaboratory.intrinsic+json": {
              "type": "string"
            },
            "text/plain": [
              "'os'"
            ]
          },
          "metadata": {},
          "execution_count": 29
        }
      ]
    },
    {
      "cell_type": "markdown",
      "metadata": {
        "id": "YrSw6xWCsh3h"
      },
      "source": [
        "O caminho que referencia o módulo:"
      ]
    },
    {
      "cell_type": "code",
      "metadata": {
        "id": "FabVZ3LcsnI4",
        "colab": {
          "base_uri": "https://localhost:8080/",
          "height": 35
        },
        "outputId": "acaf24c0-84cd-424e-9c5c-1b87222ccebe"
      },
      "source": [
        "os.__file__"
      ],
      "execution_count": 30,
      "outputs": [
        {
          "output_type": "execute_result",
          "data": {
            "application/vnd.google.colaboratory.intrinsic+json": {
              "type": "string"
            },
            "text/plain": [
              "'/usr/lib/python3.7/os.py'"
            ]
          },
          "metadata": {},
          "execution_count": 30
        }
      ]
    },
    {
      "cell_type": "markdown",
      "metadata": {
        "id": "XtMi7-oys1Tg"
      },
      "source": [
        "Quando o interpretador busca um módulo, essa busca é feita no diretório atual, assim como em diretórios específicos do interpretador. No caso de **os** foi encontrada no local padrão de instalação - **build-in**."
      ]
    },
    {
      "cell_type": "markdown",
      "metadata": {
        "id": "EtIxE61FtVuk"
      },
      "source": [
        "Depois de encontrado o arquivo, este então é aberto, processa todo o código fonte, gera os bytecodes e instancia em memória um objeto do tipo **módulo** que referencia estes bytecodes gerados."
      ]
    },
    {
      "cell_type": "markdown",
      "metadata": {
        "id": "7qBax2jquDcj"
      },
      "source": [
        "Como é um processo relativamente custoso, o Python cria um cache de todos os módulos que são importados. Assim esse processamento somente será feito na primeira vez que o módulo foi importado."
      ]
    },
    {
      "cell_type": "markdown",
      "metadata": {
        "id": "rqLd3hoAuhPl"
      },
      "source": [
        "Para realizar a importação pode ser feita nomeando o módulo:"
      ]
    },
    {
      "cell_type": "code",
      "metadata": {
        "id": "o4L7ZCakuqZq"
      },
      "source": [
        "import os as asdf"
      ],
      "execution_count": 31,
      "outputs": []
    },
    {
      "cell_type": "markdown",
      "metadata": {
        "id": "uA3wvw1Uux54"
      },
      "source": [
        "Neste momento, teremos uma variável chamada **asdf** que faz referência ao módulo de **os**. Isso também possibilita fazer referência a esta variável criada:"
      ]
    },
    {
      "cell_type": "code",
      "metadata": {
        "id": "Tf0DAMpKvOOS"
      },
      "source": [
        "a = asdf"
      ],
      "execution_count": 32,
      "outputs": []
    },
    {
      "cell_type": "code",
      "metadata": {
        "id": "uApkDHjPvUpx",
        "colab": {
          "base_uri": "https://localhost:8080/"
        },
        "outputId": "6fb40381-7506-4c63-8b10-2ad6bd2ab3a3"
      },
      "source": [
        "asdf"
      ],
      "execution_count": 33,
      "outputs": [
        {
          "output_type": "execute_result",
          "data": {
            "text/plain": [
              "<module 'os' from '/usr/lib/python3.7/os.py'>"
            ]
          },
          "metadata": {},
          "execution_count": 33
        }
      ]
    },
    {
      "cell_type": "code",
      "metadata": {
        "id": "m-_BsBCFvWTJ",
        "colab": {
          "base_uri": "https://localhost:8080/"
        },
        "outputId": "63bd68db-050a-4386-9169-81e1ab626c00"
      },
      "source": [
        "a"
      ],
      "execution_count": 34,
      "outputs": [
        {
          "output_type": "execute_result",
          "data": {
            "text/plain": [
              "<module 'os' from '/usr/lib/python3.7/os.py'>"
            ]
          },
          "metadata": {},
          "execution_count": 34
        }
      ]
    },
    {
      "cell_type": "markdown",
      "metadata": {
        "id": "hnt5ybYsvX3y"
      },
      "source": [
        "Ambas as variáveis referenciam o mesmo módulo. Desta forma, se torna possível reutilizar todos os recursos do módulo nestas variáveis:"
      ]
    },
    {
      "cell_type": "code",
      "metadata": {
        "id": "UvHS1OPivnSi",
        "colab": {
          "base_uri": "https://localhost:8080/",
          "height": 35
        },
        "outputId": "bd22fcd0-9e14-44ed-d6d2-1964ca41d400"
      },
      "source": [
        "a.getcwd()"
      ],
      "execution_count": 35,
      "outputs": [
        {
          "output_type": "execute_result",
          "data": {
            "application/vnd.google.colaboratory.intrinsic+json": {
              "type": "string"
            },
            "text/plain": [
              "'/content'"
            ]
          },
          "metadata": {},
          "execution_count": 35
        }
      ]
    },
    {
      "cell_type": "code",
      "metadata": {
        "id": "9aB1posOvrXJ",
        "colab": {
          "base_uri": "https://localhost:8080/",
          "height": 35
        },
        "outputId": "23e0e1ed-1b9a-4430-a2e4-8647984c56cf"
      },
      "source": [
        "asdf.getcwd()"
      ],
      "execution_count": 36,
      "outputs": [
        {
          "output_type": "execute_result",
          "data": {
            "application/vnd.google.colaboratory.intrinsic+json": {
              "type": "string"
            },
            "text/plain": [
              "'/content'"
            ]
          },
          "metadata": {},
          "execution_count": 36
        }
      ]
    },
    {
      "cell_type": "markdown",
      "metadata": {
        "id": "Mj3D6mqyv1eB"
      },
      "source": [
        "Esta importação acontece no Runtime do Python. Isto implica de forma o seguinte contexto:"
      ]
    },
    {
      "cell_type": "code",
      "metadata": {
        "id": "8PI25Wn1v_8Q"
      },
      "source": [
        "import os as os"
      ],
      "execution_count": 37,
      "outputs": []
    },
    {
      "cell_type": "markdown",
      "metadata": {
        "id": "8E-hCtY5_ZCc"
      },
      "source": [
        "Para confirmar que todas apontam para a mesma variável:"
      ]
    },
    {
      "cell_type": "code",
      "metadata": {
        "id": "uWwoQrTG_ePc",
        "outputId": "c6f59abd-37c4-4077-c61f-8a458ca4147e",
        "colab": {
          "base_uri": "https://localhost:8080/"
        }
      },
      "source": [
        "id(os), id(asdf), id(a)"
      ],
      "execution_count": 40,
      "outputs": [
        {
          "output_type": "execute_result",
          "data": {
            "text/plain": [
              "(140316621371056, 140316621371056, 140316621371056)"
            ]
          },
          "metadata": {},
          "execution_count": 40
        }
      ]
    },
    {
      "cell_type": "markdown",
      "metadata": {
        "id": "W1PyuRpf_wUq"
      },
      "source": [
        "O endereço que está sendo apontado é o mesmo. Isso acontece devido ao cache feito pelo python, uma vez que o módulo já anteriormente utilizado."
      ]
    },
    {
      "cell_type": "markdown",
      "metadata": {
        "id": "akOfD6ajAHFi"
      },
      "source": [
        "Em vez de importar um módulo, é possível importar um recurso específico do módulo. Por exemplo:"
      ]
    },
    {
      "cell_type": "code",
      "metadata": {
        "id": "G7m_7l57ARr7"
      },
      "source": [
        "from os import getcwd"
      ],
      "execution_count": 41,
      "outputs": []
    },
    {
      "cell_type": "markdown",
      "metadata": {
        "id": "7h-7q4BjAYTJ"
      },
      "source": [
        "Agora existe uma variável dentro deste namespace que é referenciado pelo módulo:"
      ]
    },
    {
      "cell_type": "code",
      "metadata": {
        "id": "5CuiMSDEAgi4",
        "outputId": "7ea73c69-f59e-4687-8ce9-c36b1f341a2a",
        "colab": {
          "base_uri": "https://localhost:8080/"
        }
      },
      "source": [
        "getcwd"
      ],
      "execution_count": 42,
      "outputs": [
        {
          "output_type": "execute_result",
          "data": {
            "text/plain": [
              "<function posix.getcwd>"
            ]
          },
          "metadata": {},
          "execution_count": 42
        }
      ]
    },
    {
      "cell_type": "markdown",
      "metadata": {
        "id": "UYofCy6GAv1R"
      },
      "source": [
        "Da mesma forma, esse objeto pode ser renomeado:"
      ]
    },
    {
      "cell_type": "code",
      "metadata": {
        "id": "Nz_A2Lp-A3Iv"
      },
      "source": [
        "from os import getcwd as xyz"
      ],
      "execution_count": 43,
      "outputs": []
    },
    {
      "cell_type": "markdown",
      "metadata": {
        "id": "-oh7MC6AA8h_"
      },
      "source": [
        "Testando:"
      ]
    },
    {
      "cell_type": "code",
      "metadata": {
        "id": "ytHAS-SaA9vX",
        "outputId": "472c64f0-1ecb-44eb-e139-ea5153f934f5",
        "colab": {
          "base_uri": "https://localhost:8080/",
          "height": 35
        }
      },
      "source": [
        "xyz()"
      ],
      "execution_count": 44,
      "outputs": [
        {
          "output_type": "execute_result",
          "data": {
            "application/vnd.google.colaboratory.intrinsic+json": {
              "type": "string"
            },
            "text/plain": [
              "'/content'"
            ]
          },
          "metadata": {},
          "execution_count": 44
        }
      ]
    },
    {
      "cell_type": "code",
      "metadata": {
        "id": "fFpIr_3WBBE_",
        "outputId": "a8b57a49-d695-4d0d-f60b-17492134c066",
        "colab": {
          "base_uri": "https://localhost:8080/"
        }
      },
      "source": [
        "id(xyz) , id(getcwd), id(os.getcwd)"
      ],
      "execution_count": 46,
      "outputs": [
        {
          "output_type": "execute_result",
          "data": {
            "text/plain": [
              "(140316622778192, 140316622778192, 140316622778192)"
            ]
          },
          "metadata": {},
          "execution_count": 46
        }
      ]
    },
    {
      "cell_type": "markdown",
      "metadata": {
        "id": "0RYA6OeGBXpu"
      },
      "source": [
        "Finalmente, se for usado apenas parte do módulo, pode ser mais interessante importar apenas os módulos que são interessantes. Mas se houver a utilização de muitos partes do módulo, pode ser mais interessante fazer a importação completa do módulo."
      ]
    }
  ]
}