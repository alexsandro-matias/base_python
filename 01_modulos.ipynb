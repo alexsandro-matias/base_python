{
  "nbformat": 4,
  "nbformat_minor": 0,
  "metadata": {
    "colab": {
      "name": "01 - modulos.ipynb",
      "provenance": [],
      "authorship_tag": "ABX9TyOgv7HniCTxef9GtdqbxNs3",
      "include_colab_link": true
    },
    "kernelspec": {
      "name": "python3",
      "display_name": "Python 3"
    },
    "language_info": {
      "name": "python"
    }
  },
  "cells": [
    {
      "cell_type": "markdown",
      "metadata": {
        "id": "view-in-github",
        "colab_type": "text"
      },
      "source": [
        "<a href=\"https://colab.research.google.com/github/alexsandro-matias/python_base/blob/main/01_modulos.ipynb\" target=\"_parent\"><img src=\"https://colab.research.google.com/assets/colab-badge.svg\" alt=\"Open In Colab\"/></a>"
      ]
    },
    {
      "cell_type": "markdown",
      "metadata": {
        "id": "6M-PxfbLJb_s"
      },
      "source": [
        "# Módulos em Python"
      ]
    },
    {
      "cell_type": "markdown",
      "metadata": {
        "id": "KGf4HG-1Juyp"
      },
      "source": [
        "Quando um código é executado em Python, a primeira coisa que é executada é entrypoint é o módulo, ou seja, o arquivo executado passado como parâmetro do interpretador (arquivo.py executado).\n"
      ]
    },
    {
      "cell_type": "markdown",
      "metadata": {
        "id": "yFnMI1Z1KKDT"
      },
      "source": [
        "O arquivo é executado de cima para baixo e da esquerda para direita."
      ]
    },
    {
      "cell_type": "code",
      "metadata": {
        "colab": {
          "base_uri": "https://localhost:8080/"
        },
        "id": "E8VfWLjUKc2X",
        "outputId": "4d37f834-559a-4082-8d94-40a561424d49"
      },
      "source": [
        "print(\"A idade de Alexsandro é \" ,  36 + 4)"
      ],
      "execution_count": 4,
      "outputs": [
        {
          "output_type": "stream",
          "text": [
            "A idade de Alexsandro é  40\n"
          ],
          "name": "stdout"
        }
      ]
    },
    {
      "cell_type": "markdown",
      "metadata": {
        "id": "-jaENitxKxm7"
      },
      "source": [
        "Caso não seja passado nenhum arquivo por parâmetro, o Python cria um módulo vazio que é representado pelo namespace do módulo. \n",
        "\n"
      ]
    },
    {
      "cell_type": "markdown",
      "metadata": {
        "id": "yF2IaWQ6LHbP"
      },
      "source": [
        "Isso faz com o conceito de variáveis globais sejam alteradas em Python. Para verificar quais são elas, utiliza-se function build-in:"
      ]
    },
    {
      "cell_type": "code",
      "metadata": {
        "colab": {
          "base_uri": "https://localhost:8080/"
        },
        "id": "YzFerCQcKskW",
        "outputId": "7600712d-631a-4482-ec18-81481c6cb222"
      },
      "source": [
        "globals()"
      ],
      "execution_count": 7,
      "outputs": [
        {
          "output_type": "execute_result",
          "data": {
            "text/plain": [
              "{'In': ['',\n",
              "  'os',\n",
              "  'print(\"A idade de Alexsandro é \" ,  36 + 4)',\n",
              "  'print(\"A idade de Alexsandro é \" ,  36 + 4)',\n",
              "  'print(\"A idade de Alexsandro é \" ,  36 + 4)',\n",
              "  'python',\n",
              "  'globals',\n",
              "  'globals()'],\n",
              " 'Out': {6: <function globals>},\n",
              " '_': <function globals>,\n",
              " '_6': <function globals>,\n",
              " '__': '',\n",
              " '___': '',\n",
              " '__builtin__': <module 'builtins' (built-in)>,\n",
              " '__builtins__': <module 'builtins' (built-in)>,\n",
              " '__doc__': 'Automatically created module for IPython interactive environment',\n",
              " '__loader__': None,\n",
              " '__name__': '__main__',\n",
              " '__package__': None,\n",
              " '__spec__': None,\n",
              " '_dh': ['/content'],\n",
              " '_i': 'globals',\n",
              " '_i1': 'os',\n",
              " '_i2': 'print(\"A idade de Alexsandro é \" ,  36 + 4)',\n",
              " '_i3': 'print(\"A idade de Alexsandro é \" ,  36 + 4)',\n",
              " '_i4': 'print(\"A idade de Alexsandro é \" ,  36 + 4)',\n",
              " '_i5': 'python',\n",
              " '_i6': 'globals',\n",
              " '_i7': 'globals()',\n",
              " '_ih': ['',\n",
              "  'os',\n",
              "  'print(\"A idade de Alexsandro é \" ,  36 + 4)',\n",
              "  'print(\"A idade de Alexsandro é \" ,  36 + 4)',\n",
              "  'print(\"A idade de Alexsandro é \" ,  36 + 4)',\n",
              "  'python',\n",
              "  'globals',\n",
              "  'globals()'],\n",
              " '_ii': 'python',\n",
              " '_iii': 'print(\"A idade de Alexsandro é \" ,  36 + 4)',\n",
              " '_oh': {6: <function globals>},\n",
              " '_sh': <module 'IPython.core.shadowns' from '/usr/local/lib/python3.7/dist-packages/IPython/core/shadowns.py'>,\n",
              " 'exit': <IPython.core.autocall.ZMQExitAutocall at 0x7f0f012b2210>,\n",
              " 'get_ipython': <bound method InteractiveShell.get_ipython of <google.colab._shell.Shell object at 0x7f0f1672a210>>,\n",
              " 'quit': <IPython.core.autocall.ZMQExitAutocall at 0x7f0f012b2210>}"
            ]
          },
          "metadata": {},
          "execution_count": 7
        }
      ]
    },
    {
      "cell_type": "markdown",
      "metadata": {
        "id": "xplVfDJGLdQq"
      },
      "source": [
        "Caso crie uma variável neste namespace:"
      ]
    },
    {
      "cell_type": "code",
      "metadata": {
        "id": "ePAWFLioHnYt"
      },
      "source": [
        "texto = 'Isto é um teste.'"
      ],
      "execution_count": 8,
      "outputs": []
    },
    {
      "cell_type": "markdown",
      "metadata": {
        "id": "t9o_qJOJLv8G"
      },
      "source": [
        "Chamando novamente o método globals()"
      ]
    },
    {
      "cell_type": "code",
      "metadata": {
        "colab": {
          "base_uri": "https://localhost:8080/"
        },
        "id": "iiWH9LrKLss4",
        "outputId": "2d311916-5ec1-4dc2-8623-11ee586eeec4"
      },
      "source": [
        "globals()"
      ],
      "execution_count": 9,
      "outputs": [
        {
          "output_type": "execute_result",
          "data": {
            "text/plain": [
              "{'In': ['',\n",
              "  'os',\n",
              "  'print(\"A idade de Alexsandro é \" ,  36 + 4)',\n",
              "  'print(\"A idade de Alexsandro é \" ,  36 + 4)',\n",
              "  'print(\"A idade de Alexsandro é \" ,  36 + 4)',\n",
              "  'python',\n",
              "  'globals',\n",
              "  'globals()',\n",
              "  \"texto = 'Isto é um teste.'\",\n",
              "  'globals()'],\n",
              " 'Out': {6: <function globals>, 7: {...}},\n",
              " '_': {...},\n",
              " '_6': <function globals>,\n",
              " '_7': {...},\n",
              " '__': <function globals>,\n",
              " '___': '',\n",
              " '__builtin__': <module 'builtins' (built-in)>,\n",
              " '__builtins__': <module 'builtins' (built-in)>,\n",
              " '__doc__': 'Automatically created module for IPython interactive environment',\n",
              " '__loader__': None,\n",
              " '__name__': '__main__',\n",
              " '__package__': None,\n",
              " '__spec__': None,\n",
              " '_dh': ['/content'],\n",
              " '_i': \"texto = 'Isto é um teste.'\",\n",
              " '_i1': 'os',\n",
              " '_i2': 'print(\"A idade de Alexsandro é \" ,  36 + 4)',\n",
              " '_i3': 'print(\"A idade de Alexsandro é \" ,  36 + 4)',\n",
              " '_i4': 'print(\"A idade de Alexsandro é \" ,  36 + 4)',\n",
              " '_i5': 'python',\n",
              " '_i6': 'globals',\n",
              " '_i7': 'globals()',\n",
              " '_i8': \"texto = 'Isto é um teste.'\",\n",
              " '_i9': 'globals()',\n",
              " '_ih': ['',\n",
              "  'os',\n",
              "  'print(\"A idade de Alexsandro é \" ,  36 + 4)',\n",
              "  'print(\"A idade de Alexsandro é \" ,  36 + 4)',\n",
              "  'print(\"A idade de Alexsandro é \" ,  36 + 4)',\n",
              "  'python',\n",
              "  'globals',\n",
              "  'globals()',\n",
              "  \"texto = 'Isto é um teste.'\",\n",
              "  'globals()'],\n",
              " '_ii': 'globals()',\n",
              " '_iii': 'globals',\n",
              " '_oh': {6: <function globals>, 7: {...}},\n",
              " '_sh': <module 'IPython.core.shadowns' from '/usr/local/lib/python3.7/dist-packages/IPython/core/shadowns.py'>,\n",
              " 'exit': <IPython.core.autocall.ZMQExitAutocall at 0x7f0f012b2210>,\n",
              " 'get_ipython': <bound method InteractiveShell.get_ipython of <google.colab._shell.Shell object at 0x7f0f1672a210>>,\n",
              " 'quit': <IPython.core.autocall.ZMQExitAutocall at 0x7f0f012b2210>,\n",
              " 'texto': 'Isto é um teste.'}"
            ]
          },
          "metadata": {},
          "execution_count": 9
        }
      ]
    },
    {
      "cell_type": "markdown",
      "metadata": {
        "id": "aq0fbY9AL-vW"
      },
      "source": [
        "Ela neste momento passa a fazer parte do módulo como variável global. Todas as variáveis declaradas no corpo do módulo são globais. Já aquelas que são declaradas dentro de uma função são locais."
      ]
    },
    {
      "cell_type": "markdown",
      "metadata": {
        "id": "4d4G0mIwMgqM"
      },
      "source": [
        "Algumas variáveis apresentam \"_______variavel_____\" - isso representa variáveis intermediárias entre o código interno do Python com os códigos produzidos pelo programador."
      ]
    }
  ]
}