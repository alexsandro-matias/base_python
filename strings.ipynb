{
  "nbformat": 4,
  "nbformat_minor": 0,
  "metadata": {
    "colab": {
      "name": "01 - modulos.ipynb",
      "provenance": [],
      "include_colab_link": true
    },
    "kernelspec": {
      "name": "python3",
      "display_name": "Python 3"
    },
    "language_info": {
      "name": "python"
    }
  },
  "cells": [
    {
      "cell_type": "markdown",
      "metadata": {
        "id": "view-in-github",
        "colab_type": "text"
      },
      "source": [
        "<a href=\"https://colab.research.google.com/github/alexsandro-matias/base_python/blob/main/strings.ipynb\" target=\"_parent\"><img src=\"https://colab.research.google.com/assets/colab-badge.svg\" alt=\"Open In Colab\"/></a>"
      ]
    },
    {
      "cell_type": "markdown",
      "metadata": {
        "id": "6M-PxfbLJb_s"
      },
      "source": [
        "# Strings em Python"
      ]
    },
    {
      "cell_type": "code",
      "source": [
        "# Método replace"
      ],
      "metadata": {
        "id": "wArcXWL0MAZ0"
      },
      "execution_count": null,
      "outputs": []
    },
    {
      "cell_type": "markdown",
      "source": [
        "De acordo com a documentação oficial o método: Return a copy with all occurrences of substring old replaced by new. If the optional argument count is given, only the first count occurrences are    replaced.\n",
        "\n"
      ],
      "metadata": {
        "id": "1xtc-AocMKs8"
      }
    },
    {
      "cell_type": "markdown",
      "source": [
        "## Método count"
      ],
      "metadata": {
        "id": "lXDW7VOsMrsO"
      }
    },
    {
      "cell_type": "code",
      "source": [
        "Maximum number of occurrences to replace.        -1 (the default value) means replace all occurrences."
      ],
      "metadata": {
        "id": "pXEj22KjMty4"
      },
      "execution_count": null,
      "outputs": []
    }
  ]
}